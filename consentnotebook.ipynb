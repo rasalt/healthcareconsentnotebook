{
 "cells": [
  {
   "cell_type": "markdown",
   "id": "demanding-horizontal",
   "metadata": {},
   "source": [
    "## Consent API Demo\n",
    "#### Responsible party - organization owning/stewarding the patient data\n",
    "#### Responsible persona - Healthcare IT/Admin team"
   ]
  },
  {
   "cell_type": "markdown",
   "id": "headed-recommendation",
   "metadata": {},
   "source": [
    "### Prerequisites"
   ]
  },
  {
   "cell_type": "code",
   "execution_count": null,
   "id": "crucial-shock",
   "metadata": {},
   "outputs": [],
   "source": [
    "PROJECT_ID=\"<>\"\n",
    "LOCATION=\"us-central1\"\n",
    "DATASET=\"<>\"\n",
    "CONSENT_BASE_URL='https://healthcare.googleapis.com/v1'\n",
    "CONSENTSTORE=\"<>\"\n",
    "GCS_BUCKET=\"<>\""
   ]
  },
  {
   "cell_type": "markdown",
   "id": "qualified-identification",
   "metadata": {},
   "source": [
    "### Re-usable functions"
   ]
  },
  {
   "cell_type": "code",
   "execution_count": null,
   "id": "egyptian-pierre",
   "metadata": {},
   "outputs": [],
   "source": [
    "import json\n",
    "def run_request(request):\n",
    "    response = request.execute()\n",
    "    print(json.dumps(\n",
    "      response,\n",
    "      sort_keys=True,\n",
    "      indent=2\n",
    "    ))\n",
    "    return response\n",
    "def get_session():\n",
    "    \"\"\"Creates an authorized Requests Session.\"\"\"\n",
    "\n",
    "    # Pass in the credentials and project ID. If none supplied, get them\n",
    "    # from the environment.\n",
    "    from google.oauth2 import service_account\n",
    "\n",
    "    SCOPES = ['https://www.googleapis.com/auth/cloud-platform']\n",
    "    SERVICE_ACCOUNT_FILE = \"<json key file>\"\n",
    "\n",
    "    credentials = service_account.Credentials.from_service_account_file(\n",
    "        SERVICE_ACCOUNT_FILE, scopes=SCOPES)\n",
    "    import googleapiclient.discovery\n",
    "\n",
    "    service = googleapiclient.discovery.build('healthcare', 'v1beta1', credentials=credentials)\n",
    "    \n",
    "    parent = \"projects/{}/locations/{}/datasets/{}\".format(\n",
    "        PROJECT_ID, LOCATION, DATASET\n",
    "    )\n",
    "    consent_parent = \"projects/{}/locations/{}/datasets/{}/consentStores/{}\".format(\n",
    "        PROJECT_ID, LOCATION, DATASET,CONSENTSTORE\n",
    "    )\n",
    "    return service, parent, consent_parent"
   ]
  },
  {
   "cell_type": "markdown",
   "id": "fitting-lunch",
   "metadata": {},
   "source": [
    "### Setup session"
   ]
  },
  {
   "cell_type": "code",
   "execution_count": null,
   "id": "juvenile-hampshire",
   "metadata": {},
   "outputs": [],
   "source": [
    "svc, parent, consent_parent = get_session()"
   ]
  },
  {
   "cell_type": "code",
   "execution_count": null,
   "id": "destroyed-sister",
   "metadata": {},
   "outputs": [],
   "source": [
    "## PART A: Executed by Admin"
   ]
  },
  {
   "cell_type": "markdown",
   "id": "municipal-azerbaijan",
   "metadata": {},
   "source": [
    "### Creation of Healthcare Dataset (Reference: https://cloud.google.com/healthcare/docs/how-tos/consent-managing)"
   ]
  },
  {
   "cell_type": "code",
   "execution_count": null,
   "id": "optimum-michael",
   "metadata": {},
   "outputs": [],
   "source": [
    "p = \"projects/{}/locations/{}\".format(\n",
    "        PROJECT_ID, LOCATION\n",
    "    )\n",
    "request = svc.projects().locations().datasets().create(\n",
    "        parent=p, datasetId=DATASET)\n",
    "\n",
    "run_request(request)"
   ]
  },
  {
   "cell_type": "markdown",
   "id": "positive-adult",
   "metadata": {},
   "source": [
    "### Creation of Consent Store \"CONSENTSTORE\" (Reference: https://cloud.google.com/healthcare/docs/how-tos/consent-managing)"
   ]
  },
  {
   "cell_type": "code",
   "execution_count": null,
   "id": "waiting-irrigation",
   "metadata": {},
   "outputs": [],
   "source": [
    "request = svc.projects().locations().datasets().consentStores().create(\n",
    "        parent=parent, consentStoreId=CONSENTSTORE)\n",
    "\n",
    "run_request(request)"
   ]
  },
  {
   "cell_type": "markdown",
   "id": "competent-sandwich",
   "metadata": {},
   "source": [
    "### Creation of Consent Attributes - Resource (Reference: https://cloud.google.com/healthcare/docs/how-tos/consent-policies)"
   ]
  },
  {
   "cell_type": "code",
   "execution_count": null,
   "id": "sorted-supplement",
   "metadata": {},
   "outputs": [],
   "source": [
    "## Resource - data_identifiable\n",
    "consent_attr = { \n",
    "  # Required. Possible values for the attribute. The number of allowed values must not exceed 100. An empty list is invalid. The list can only be expanded after creation.  \n",
    "  \"allowedValues\": [\"identifiable\", \"de-identified\"],\n",
    "  \"category\": \"RESOURCE\",   # Required. The category of the attribute. The value of this field cannot be changed after creation.\n",
    "  # Default values of the attribute in consents. If no default values are specified, it defaults to an empty value.    \n",
    "  \"consentDefaultValues\": [],\n",
    "  \"description\": \"Indentifiable data\", # A description of the attribute.\n",
    "  \"name\": \"data_identifiable\", # Resource name of the attribute definition, of the form `projects/{project_id}/locations/{location_id}/datasets/{dataset_id}/consentStores/{consent_store_id}/attributeDefinitions/{attribute_definition_id}`.\n",
    "}\n",
    "\n",
    "request = svc.projects().locations().datasets().consentStores().attributeDefinitions().create(\n",
    "        parent=consent_parent, attributeDefinitionId=\"data_identifiable\", body=consent_attr)\n",
    "\n",
    "run_request(request)\n",
    "## Resource - data_type\n",
    "consent_attr = { \n",
    "  # Required. Possible values for the attribute. The number of allowed values must not exceed 100. An empty list is invalid. The list can only be expanded after creation.  \n",
    "  \"allowedValues\": [\"activity\", \"vitals\", \"mentalhealth\", \"medicalrecord\"],\n",
    "  \"category\": \"RESOURCE\",   # Required. The category of the attribute. The value of this field cannot be changed after creation.\n",
    "  # Default values of the attribute in consents. If no default values are specified, it defaults to an empty value.\n",
    "  \"consentDefaultValues\": [],\n",
    "  \"description\": \"Type of data\", # A description of the attribute.\n",
    "  \"name\": \"data_type\", # Resource name of the attribute definition, of the form `projects/{project_id}/locations/{location_id}/datasets/{dataset_id}/consentStores/{consent_store_id}/attributeDefinitions/{attribute_definition_id}`.\n",
    "}\n",
    "\n",
    "request = svc.projects().locations().datasets().consentStores().attributeDefinitions().create(\n",
    "        parent=consent_parent, attributeDefinitionId=\"data_type\", body=consent_attr)\n",
    "run_request(request)\n"
   ]
  },
  {
   "cell_type": "code",
   "execution_count": null,
   "id": "subsequent-farmer",
   "metadata": {},
   "outputs": [],
   "source": [
    "### Creation of Consent Attributes - Request (Reference: https://cloud.google.com/healthcare/docs/how-tos/consent-policies)"
   ]
  },
  {
   "cell_type": "code",
   "execution_count": null,
   "id": "smooth-topic",
   "metadata": {},
   "outputs": [],
   "source": [
    "consent_attr = {\n",
    "    \"allowedValues\": [\"provider\", \"healthplan\", \"partners\"],\n",
    "    \"category\": \"REQUEST\",\n",
    "    \"consentDefaultValues\": [],\n",
    "    \"description\": \"Requester Type\",\n",
    "    \"name\": \"requester_type\",\n",
    "}\n",
    "\n",
    "request = svc.projects().locations().datasets().consentStores().attributeDefinitions().create(\n",
    "    parent=consent_parent, attributeDefinitionId=\"requester_type\", body=consent_attr)\n",
    "run_request(request)\n",
    "print(\"-------------------------------------------------------------------------------------------\")\n",
    "## Resource - data type\n",
    "consent_attr = {\n",
    "    \"allowedValues\": [\"coaching\", \"research\", \"discount\"],\n",
    "    \"category\": \"REQUEST\",\n",
    "    \"consentDefaultValues\": [],\n",
    "    \"description\": \"Requester Purpose\",\n",
    "    \"name\": \"purpose\",\n",
    "}\n",
    "\n",
    "request = svc.projects().locations().datasets().consentStores().attributeDefinitions().create(\n",
    "    parent=consent_parent, attributeDefinitionId=\"purpose\", body=consent_attr)\n",
    "run_request(request)\n"
   ]
  },
  {
   "cell_type": "markdown",
   "id": "deluxe-professional",
   "metadata": {},
   "source": [
    "## PART B: Consent by user/patient"
   ]
  },
  {
   "cell_type": "code",
   "execution_count": null,
   "id": "overall-method",
   "metadata": {},
   "outputs": [],
   "source": [
    "# Set username\n",
    "import json\n",
    "username = \"user1\" #Creation of consent for user1"
   ]
  },
  {
   "cell_type": "markdown",
   "id": "entitled-binding",
   "metadata": {},
   "source": [
    "### Creation of Consent - Artifact (Reference: https://googleapis.github.io/google-api-python-client/docs/dyn/healthcare_v1beta1.projects.locations.datasets.consentStores.consentArtifacts.html#create)"
   ]
  },
  {
   "cell_type": "code",
   "execution_count": null,
   "id": "informed-invitation",
   "metadata": {},
   "outputs": [],
   "source": [
    "data = {}\n",
    "data['user_id'] = username\n",
    "data['user_signature'] = {} \n",
    "data['user_signature']['user_id'] = username\n",
    "data['consent_content_version'] = 'v1'\n",
    "data['metadata'] = {} \n",
    "data['metadata']['client'] = 'mobile'\n",
    "\n",
    "# Documentation\n",
    "\n",
    "print(json.dumps(data, indent = 4))\n",
    "    \n",
    "request = svc.projects().locations().datasets().consentStores().consentArtifacts().create(\n",
    "    parent=consent_parent,body=data)\n",
    "\n",
    "response = run_request(request)\n",
    "print(response)\n",
    "artifact = response[\"name\"]\n"
   ]
  },
  {
   "cell_type": "markdown",
   "id": "effective-reasoning",
   "metadata": {},
   "source": [
    "### Creation of UserDataMapping (Reference: https://googleapis.github.io/google-api-python-client/docs/dyn/healthcare_v1beta1.projects.locations.datasets.consentStores.consentArtifacts.html#create)"
   ]
  },
  {
   "cell_type": "code",
   "execution_count": null,
   "id": "victorian-delivery",
   "metadata": {},
   "outputs": [],
   "source": [
    "for a in [\"activity\", \"vitals\", \"mentalhealth\", \"medicalrecord\"]:\n",
    "    # Create the userDataMapping\n",
    "    # Use opaque id and expect another application to take care of transalting the opaqueid to physical resource location\n",
    "    # the format of the opaque id is \"useremail,\"noun(activity/Vitals),physresource(bq/csv/fhir),id(table/csv\n",
    "    # Create the payload\n",
    "    # Create 2 version per data type\n",
    "    ## Deidentified Data ID\n",
    "    data = {}\n",
    "    attr1 = {}\n",
    "    attr2 = {}\n",
    "    data[\"resource_attributes\"] = []\n",
    "\n",
    "    data[\"user_id\"] = username\n",
    "    data[\"data_id\"] = username +  \",\" + a + \",\" + \"deid\"\n",
    "    attr1[\"attribute_definition_id\"] = \"data_identifiable\"\n",
    "    attr1[\"values\"] = [\"de-identified\"]\n",
    "    data[\"resource_attributes\"].append(attr1)\n",
    "\n",
    "    attr2[\"attribute_definition_id\"] = \"data_type\"\n",
    "    attr2[\"values\"] = [a]\n",
    "    data[\"resource_attributes\"].append(attr2)\n",
    "    \n",
    "    print(\"Creating user data mapping for user {} datatype {} and de-id\".format(username,a))\n",
    "    request = svc.projects().locations().datasets().consentStores().userDataMappings().create(\n",
    "           parent=consent_parent,body=data)\n",
    "    run_request(request)\n",
    "\n",
    "\n",
    "    ## Identifiable Data ID\n",
    "    data = {}\n",
    "    attr1 = {}\n",
    "    attr2 = {}\n",
    "    data[\"user_id\"] = username\n",
    "    data[\"data_id\"] = username +  \",\" + a + \",\" + \"id\"\n",
    "    data[\"resource_attributes\"] = []\n",
    "    attr1[\"attribute_definition_id\"] = \"data_identifiable\"\n",
    "    attr1[\"values\"] = [\"identifiable\"]\n",
    "    data[\"resource_attributes\"].append(attr1)\n",
    "\n",
    "    attr2[\"attribute_definition_id\"] = \"data_type\"\n",
    "    attr2[\"values\"] = [a]\n",
    "    data[\"resource_attributes\"].append(attr2)\n",
    "    print(\"Creating user data mapping for datatype {} and id\".format(a))\n",
    "    request = svc.projects().locations().datasets().consentStores().userDataMappings().create( \n",
    "         parent=consent_parent,body=data)\n",
    "    run_request(request)\n"
   ]
  },
  {
   "cell_type": "code",
   "execution_count": null,
   "id": "tutorial-silver",
   "metadata": {},
   "outputs": [],
   "source": [
    "### Placeholder : Create the logical to physical mappings using a method of choice. eg. logical id {data_id\": \"testuser1,medicalrecord,deid\"} needs to be understood at the time of policy enforcement."
   ]
  },
  {
   "cell_type": "markdown",
   "id": "sustained-polymer",
   "metadata": {},
   "source": [
    "### Creation of Consent itself (Reference: https://googleapis.github.io/google-api-python-client/docs/dyn/healthcare_v1beta1.projects.locations.datasets.consentStores.consents.html#create)"
   ]
  },
  {
   "cell_type": "code",
   "execution_count": null,
   "id": "tired-contrary",
   "metadata": {},
   "outputs": [],
   "source": [
    "# Sample consent data \n",
    "userconsentdata = ({})\n",
    "userconsentdata[\"activity\"] = {}\n",
    "userconsentdata[\"vitals\"] = {}\n",
    "userconsentdata[\"medicalrecord\"] = {}\n",
    "userconsentdata[\"mentalhealth\"] = {}\n",
    "userconsentdata[\"de-identified\"] = {}\n",
    "userconsentdata[\"identifiable\"] = {}\n",
    "\n",
    "# Consent Choices\n",
    "userconsentdata[\"activity\"][\"provider\"] = True\n",
    "userconsentdata[\"activity\"][\"healthplan\"] = True\n",
    "userconsentdata[\"activity\"][\"partners\"] = True\n",
    "\n",
    "userconsentdata[\"vitals\"][\"provider\"] = True\n",
    "userconsentdata[\"vitals\"][\"healthplan\"] = True\n",
    "userconsentdata[\"vitals\"][\"partners\"] = True\n",
    "\n",
    "userconsentdata[\"mentalhealth\"][\"provider\"] = True\n",
    "userconsentdata[\"mentalhealth\"][\"healthplan\"] = True\n",
    "userconsentdata[\"mentalhealth\"][\"partners\"] = True\n",
    "\n",
    "userconsentdata[\"medicalrecord\"][\"provider\"] = True\n",
    "userconsentdata[\"medicalrecord\"][\"healthplan\"] = True\n",
    "userconsentdata[\"medicalrecord\"][\"partners\"] = True\n",
    "\n",
    "\n",
    "userconsentdata[\"de-identified\"][\"research\"] = True\n",
    "userconsentdata[\"identifiable\"][\"discount\"] = True\n",
    "userconsentdata[\"identifiable\"][\"coaching\"] = True\n",
    "\n",
    "# Create consent itself\n",
    "data = {}\n",
    "data[\"user_id\"] = username\n",
    "data[\"policies\"] = []\n",
    "data[\"consent_artifact\"]= artifact\n",
    "\n",
    "for a in [\"activity\", \"vitals\", \"mentalhealth\", \"medicalrecord\"]:\n",
    "    activityBy = []\n",
    "    for b in [\"provider\", \"healthplan\", \"partners\"]:\n",
    "        if userconsentdata[a][b] == True:\n",
    "            activityBy.append(b)\n",
    "\n",
    "    obj0 = {}\n",
    "    obj0[\"resource_attributes\"] = []\n",
    "    obj = {}\n",
    "    obj[\"attribute_definition_id\"] = \"data_type\"\n",
    "    obj[\"values\"] = []\n",
    "    obj[\"values\"].append(a)\n",
    "    obj0[\"resource_attributes\"].append(obj)\n",
    "    obj0[\"authorization_rule\"] = {}\n",
    "    obj0[\"authorization_rule\"][\"expression\"] = \"requester_type in {}\".format(str(activityBy))\n",
    "    data[\"policies\"].append(obj0)\n",
    "\n",
    "print(data)\n",
    "print(\"------------------------\")\n",
    "\n",
    "print(\"Adding policies for identifiable data {}\".format(username))\n",
    "\n",
    "#Create the payload\n",
    "accessBy = []\n",
    "if (userconsentdata[\"identifiable\"][\"discount\"] == True):\n",
    "    accessBy.append(\"discount\")\n",
    "if (userconsentdata[\"identifiable\"][\"coaching\"] == True):\n",
    "    accessBy.append(\"coaching\")\n",
    "\n",
    "obj0 = {}\n",
    "obj0['resource_attributes'] = []\n",
    "obj = {}\n",
    "obj['attribute_definition_id'] = 'data_identifiable'\n",
    "obj['values'] = []\n",
    "obj['values'].append('identifiable')\n",
    "obj0['resource_attributes'].append(obj)\n",
    "obj0['authorization_rule'] = {}\n",
    "obj0['authorization_rule']['expression'] = 'purpose in {}'.format(str(accessBy))\n",
    "\n",
    "data['policies'].append(obj0)\n",
    "print(data)\n",
    "print(\"------------------------\")\n",
    "\n",
    "print(\"Adding policies for de-identified  data  {}\".format(username))\n",
    "accessBy = []\n",
    "if (userconsentdata[\"de-identified\"][\"research\"] == True):\n",
    "    accessBy.append(\"research\")\n",
    "\n",
    "obj0 = {}\n",
    "obj0['resource_attributes'] = []\n",
    "obj = {}\n",
    "obj['attribute_definition_id'] = 'data_identifiable'\n",
    "obj['values'] = []\n",
    "obj['values'].append('de-identified')\n",
    "obj0['resource_attributes'].append(obj)\n",
    "obj0['authorization_rule'] = {}\n",
    "obj0['authorization_rule']['expression'] = 'purpose in {}'.format(str(accessBy))\n",
    "\n",
    "data['policies'].append(obj0)\n",
    "print(data)\n",
    "print(\"------------------------\")\n",
    "\n",
    "request = svc.projects().locations().datasets().consentStores().consents().create(\n",
    "    parent=consent_parent,body=data)\n",
    "\n",
    "run_request(request)\n"
   ]
  },
  {
   "cell_type": "markdown",
   "id": "recovered-johnson",
   "metadata": {},
   "source": [
    "## PART C: Policy Enforcement"
   ]
  },
  {
   "cell_type": "markdown",
   "id": "south-henry",
   "metadata": {},
   "source": [
    "### Querying the Consent Store (Reference: https://googleapis.github.io/google-api-python-client/docs/dyn/healthcare_v1beta1.projects.locations.datasets.consentStores.html#queryAccessibleData)"
   ]
  },
  {
   "cell_type": "code",
   "execution_count": null,
   "id": "verified-fusion",
   "metadata": {},
   "outputs": [],
   "source": [
    "# Sample request parameters\n",
    "\n",
    "#who = \"partners\"\n",
    "#purpose = \"research\"\n",
    "#datatype = \"mentalhealth\"\n",
    "#identifiable = False\n",
    "#if (datatype != \"any\"):\n",
    "#    data['resource_attributes']['data_type'] = datatype\n",
    "#data['request_attributes']['requester_type'] = who\n",
    "who = \"partners\"\n",
    "purpose = \"research\"\n",
    "datatype = \"medicalrecord\"\n",
    "identifiable = \"de-identified\"\n",
    "\n",
    "data = {}\n",
    "data['gcs_destination'] = {}\n",
    "data['gcs_destination']['uri_prefix'] =  GCS_BUCKET\n",
    "data['resource_attributes'] = {}\n",
    "data['request_attributes'] = {}\n",
    "\n",
    "if (identifiable != \"any\"):\n",
    "    data['resource_attributes']['data_identifiable'] = identifiable\n",
    "if (purpose != \"any\"):\n",
    "    data['request_attributes']['purpose'] = purpose\n",
    "\n",
    "\n",
    "\n",
    "\n",
    "print(data)\n",
    "request = svc.projects().locations().datasets().consentStores().queryAccessibleData(\n",
    "    consentStore = consent_parent, body=data)\n",
    "run_request(request)\n",
    "print (\"------------------------------------------\")\n"
   ]
  },
  {
   "cell_type": "code",
   "execution_count": null,
   "id": "little-cameroon",
   "metadata": {},
   "outputs": [],
   "source": [
    "!gsutil ls -l <GCS_BUCKET>"
   ]
  },
  {
   "cell_type": "code",
   "execution_count": null,
   "id": "operating-tissue",
   "metadata": {},
   "outputs": [],
   "source": [
    "!gsutil cat <GCS_FILENAME>"
   ]
  },
  {
   "cell_type": "code",
   "execution_count": null,
   "id": "nervous-model",
   "metadata": {},
   "outputs": [],
   "source": [
    "# Sample request parameters\n",
    "\n",
    "#who = \"partners\"\n",
    "#purpose = \"research\"\n",
    "#datatype = \"mentalhealth\"\n",
    "#identifiable = False\n",
    "#if (datatype != \"any\"):\n",
    "#    data['resource_attributes']['data_type'] = datatype\n",
    "#data['request_attributes']['requester_type'] = who\n",
    "who = \"partners\"\n",
    "purpose = \"research\"\n",
    "datatype = \"medicalrecord\"\n",
    "identifiable = \"de-identified\"\n",
    "\n",
    "data = {}\n",
    "data['gcs_destination'] = {}\n",
    "data['gcs_destination']['uri_prefix'] = GCS_BUCKET\n",
    "data['resource_attributes'] = {}\n",
    "data['request_attributes'] = {}\n",
    "\n",
    "data['resource_attributes']['data_type'] = \"medicalrecord\"\n",
    "data['request_attributes']['requester_type'] = \"partners\"\n",
    "\n",
    "print(data)\n",
    "request = svc.projects().locations().datasets().consentStores().queryAccessibleData(\n",
    "    consentStore = consent_parent, body=data)\n",
    "run_request(request)\n",
    "print (\"------------------------------------------\")\n"
   ]
  },
  {
   "cell_type": "code",
   "execution_count": null,
   "id": "falling-encoding",
   "metadata": {},
   "outputs": [],
   "source": [
    "!gsutil ls -l <GCS_BUCKET>"
   ]
  },
  {
   "cell_type": "code",
   "execution_count": null,
   "id": "incorporated-lingerie",
   "metadata": {},
   "outputs": [],
   "source": [
    "!gsutil cat <GCS_FILENAME>"
   ]
  },
  {
   "cell_type": "code",
   "execution_count": null,
   "id": "powered-cabin",
   "metadata": {},
   "outputs": [],
   "source": []
  }
 ],
 "metadata": {
  "environment": {
   "name": "common-cpu.mnightly-2021-02-02-debian-10-test",
   "type": "gcloud",
   "uri": "gcr.io/deeplearning-platform-release/base-cpu:mnightly-2021-02-02-debian-10-test"
  },
  "kernelspec": {
   "display_name": "Python 3",
   "language": "python",
   "name": "python3"
  },
  "language_info": {
   "codemirror_mode": {
    "name": "ipython",
    "version": 3
   },
   "file_extension": ".py",
   "mimetype": "text/x-python",
   "name": "python",
   "nbconvert_exporter": "python",
   "pygments_lexer": "ipython3",
   "version": "3.7.9"
  }
 },
 "nbformat": 4,
 "nbformat_minor": 5
}
